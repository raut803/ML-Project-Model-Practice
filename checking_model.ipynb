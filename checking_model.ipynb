{
 "cells": [
  {
   "cell_type": "code",
   "execution_count": null,
   "id": "a499f5e1",
   "metadata": {},
   "outputs": [],
   "source": [
    "import pickle\n",
    "import numpy as np\n",
    "import sklearn"
   ]
  },
  {
   "cell_type": "code",
   "execution_count": null,
   "id": "9ab7070c",
   "metadata": {},
   "outputs": [],
   "source": [
    "Item_Weight = 9.30\n",
    "Item_Fat_Content = 0\n",
    "Item_Visibility = 0.016047\n",
    "Item_Type = 4\n",
    "Item_MRP = 249.8092\n",
    "Outlet_Size = 1\n",
    "Outlet_Location_Type = 0\n",
    "Outlet_Type = 1\n",
    "Outlet_Years = 22\n",
    "Item_Type_Combined = 1"
   ]
  },
  {
   "cell_type": "code",
   "execution_count": null,
   "id": "e9abaaa8",
   "metadata": {},
   "outputs": [],
   "source": [
    "model = pickle.load(open(\"model1.pkl\",'rb'))"
   ]
  },
  {
   "cell_type": "code",
   "execution_count": null,
   "id": "16190283",
   "metadata": {},
   "outputs": [],
   "source": [
    "y_pred_lr = model.predict(x)\n",
    "y_pred_lr"
   ]
  },
  {
   "cell_type": "code",
   "execution_count": null,
   "id": "f8bea762",
   "metadata": {},
   "outputs": [],
   "source": []
  },
  {
   "cell_type": "code",
   "execution_count": null,
   "id": "f6933ec8",
   "metadata": {},
   "outputs": [],
   "source": []
  }
 ],
 "metadata": {
  "kernelspec": {
   "display_name": "Python 3",
   "language": "python",
   "name": "python3"
  },
  "language_info": {
   "codemirror_mode": {
    "name": "ipython",
    "version": 3
   },
   "file_extension": ".py",
   "mimetype": "text/x-python",
   "name": "python",
   "nbconvert_exporter": "python",
   "pygments_lexer": "ipython3",
   "version": "3.8.8"
  }
 },
 "nbformat": 4,
 "nbformat_minor": 5
}
